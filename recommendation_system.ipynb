{
 "cells": [
  {
   "cell_type": "markdown",
   "metadata": {},
   "source": [
    "# Recommendation System"
   ]
  },
  {
   "cell_type": "markdown",
   "metadata": {},
   "source": [
    "## i) Importing libraries"
   ]
  },
  {
   "cell_type": "code",
   "execution_count": 1,
   "metadata": {},
   "outputs": [],
   "source": [
    "import pandas as pd\n",
    "import numpy as np\n",
    "import matplotlib.pyplot as plt"
   ]
  },
  {
   "cell_type": "markdown",
   "metadata": {},
   "source": [
    "## ii) Reading csv files using pandas"
   ]
  },
  {
   "cell_type": "code",
   "execution_count": 2,
   "metadata": {},
   "outputs": [],
   "source": [
    "ratings = pd.read_csv(\"ml-latest_/ratings.csv\")\n",
    "movies = pd.read_csv(\"ml-latest_/movies.csv\")"
   ]
  },
  {
   "cell_type": "code",
   "execution_count": 3,
   "metadata": {},
   "outputs": [
    {
     "name": "stdout",
     "output_type": "stream",
     "text": [
      "ratings file dataset ==> (27753444, 4)\n",
      "movies file dataset ==> (58098, 3)\n"
     ]
    }
   ],
   "source": [
    "print(\"ratings file dataset ==>\", ratings.shape)\n",
    "print(\"movies file dataset ==>\", movies.shape)"
   ]
  },
  {
   "cell_type": "code",
   "execution_count": 4,
   "metadata": {},
   "outputs": [
    {
     "data": {
      "text/html": [
       "<div>\n",
       "<style scoped>\n",
       "    .dataframe tbody tr th:only-of-type {\n",
       "        vertical-align: middle;\n",
       "    }\n",
       "\n",
       "    .dataframe tbody tr th {\n",
       "        vertical-align: top;\n",
       "    }\n",
       "\n",
       "    .dataframe thead th {\n",
       "        text-align: right;\n",
       "    }\n",
       "</style>\n",
       "<table border=\"1\" class=\"dataframe\">\n",
       "  <thead>\n",
       "    <tr style=\"text-align: right;\">\n",
       "      <th></th>\n",
       "      <th>userId</th>\n",
       "      <th>movieId</th>\n",
       "      <th>rating</th>\n",
       "      <th>timestamp</th>\n",
       "    </tr>\n",
       "  </thead>\n",
       "  <tbody>\n",
       "    <tr>\n",
       "      <th>0</th>\n",
       "      <td>1</td>\n",
       "      <td>307</td>\n",
       "      <td>3.5</td>\n",
       "      <td>1256677221</td>\n",
       "    </tr>\n",
       "    <tr>\n",
       "      <th>1</th>\n",
       "      <td>1</td>\n",
       "      <td>481</td>\n",
       "      <td>3.5</td>\n",
       "      <td>1256677456</td>\n",
       "    </tr>\n",
       "    <tr>\n",
       "      <th>2</th>\n",
       "      <td>1</td>\n",
       "      <td>1091</td>\n",
       "      <td>1.5</td>\n",
       "      <td>1256677471</td>\n",
       "    </tr>\n",
       "    <tr>\n",
       "      <th>3</th>\n",
       "      <td>1</td>\n",
       "      <td>1257</td>\n",
       "      <td>4.5</td>\n",
       "      <td>1256677460</td>\n",
       "    </tr>\n",
       "    <tr>\n",
       "      <th>4</th>\n",
       "      <td>1</td>\n",
       "      <td>1449</td>\n",
       "      <td>4.5</td>\n",
       "      <td>1256677264</td>\n",
       "    </tr>\n",
       "  </tbody>\n",
       "</table>\n",
       "</div>"
      ],
      "text/plain": [
       "   userId  movieId  rating   timestamp\n",
       "0       1      307     3.5  1256677221\n",
       "1       1      481     3.5  1256677456\n",
       "2       1     1091     1.5  1256677471\n",
       "3       1     1257     4.5  1256677460\n",
       "4       1     1449     4.5  1256677264"
      ]
     },
     "execution_count": 4,
     "metadata": {},
     "output_type": "execute_result"
    }
   ],
   "source": [
    "ratings.head()"
   ]
  },
  {
   "cell_type": "code",
   "execution_count": 5,
   "metadata": {},
   "outputs": [
    {
     "data": {
      "text/html": [
       "<div>\n",
       "<style scoped>\n",
       "    .dataframe tbody tr th:only-of-type {\n",
       "        vertical-align: middle;\n",
       "    }\n",
       "\n",
       "    .dataframe tbody tr th {\n",
       "        vertical-align: top;\n",
       "    }\n",
       "\n",
       "    .dataframe thead th {\n",
       "        text-align: right;\n",
       "    }\n",
       "</style>\n",
       "<table border=\"1\" class=\"dataframe\">\n",
       "  <thead>\n",
       "    <tr style=\"text-align: right;\">\n",
       "      <th></th>\n",
       "      <th>movieId</th>\n",
       "      <th>title</th>\n",
       "      <th>genres</th>\n",
       "    </tr>\n",
       "  </thead>\n",
       "  <tbody>\n",
       "    <tr>\n",
       "      <th>0</th>\n",
       "      <td>1</td>\n",
       "      <td>Toy Story (1995)</td>\n",
       "      <td>Adventure|Animation|Children|Comedy|Fantasy</td>\n",
       "    </tr>\n",
       "    <tr>\n",
       "      <th>1</th>\n",
       "      <td>2</td>\n",
       "      <td>Jumanji (1995)</td>\n",
       "      <td>Adventure|Children|Fantasy</td>\n",
       "    </tr>\n",
       "    <tr>\n",
       "      <th>2</th>\n",
       "      <td>3</td>\n",
       "      <td>Grumpier Old Men (1995)</td>\n",
       "      <td>Comedy|Romance</td>\n",
       "    </tr>\n",
       "    <tr>\n",
       "      <th>3</th>\n",
       "      <td>4</td>\n",
       "      <td>Waiting to Exhale (1995)</td>\n",
       "      <td>Comedy|Drama|Romance</td>\n",
       "    </tr>\n",
       "    <tr>\n",
       "      <th>4</th>\n",
       "      <td>5</td>\n",
       "      <td>Father of the Bride Part II (1995)</td>\n",
       "      <td>Comedy</td>\n",
       "    </tr>\n",
       "  </tbody>\n",
       "</table>\n",
       "</div>"
      ],
      "text/plain": [
       "   movieId                               title  \\\n",
       "0        1                    Toy Story (1995)   \n",
       "1        2                      Jumanji (1995)   \n",
       "2        3             Grumpier Old Men (1995)   \n",
       "3        4            Waiting to Exhale (1995)   \n",
       "4        5  Father of the Bride Part II (1995)   \n",
       "\n",
       "                                        genres  \n",
       "0  Adventure|Animation|Children|Comedy|Fantasy  \n",
       "1                   Adventure|Children|Fantasy  \n",
       "2                               Comedy|Romance  \n",
       "3                         Comedy|Drama|Romance  \n",
       "4                                       Comedy  "
      ]
     },
     "execution_count": 5,
     "metadata": {},
     "output_type": "execute_result"
    }
   ],
   "source": [
    "movies.head()"
   ]
  },
  {
   "cell_type": "markdown",
   "metadata": {},
   "source": [
    "## iii) Data Preprocessing"
   ]
  },
  {
   "cell_type": "code",
   "execution_count": 6,
   "metadata": {},
   "outputs": [
    {
     "name": "stdout",
     "output_type": "stream",
     "text": [
      "<class 'pandas.core.frame.DataFrame'>\n",
      "RangeIndex: 58098 entries, 0 to 58097\n",
      "Data columns (total 3 columns):\n",
      "movieId    58098 non-null int64\n",
      "title      58098 non-null object\n",
      "genres     58098 non-null object\n",
      "dtypes: int64(1), object(2)\n",
      "memory usage: 1.3+ MB\n"
     ]
    }
   ],
   "source": [
    "movies.info()"
   ]
  },
  {
   "cell_type": "code",
   "execution_count": 7,
   "metadata": {},
   "outputs": [
    {
     "name": "stdout",
     "output_type": "stream",
     "text": [
      "<class 'pandas.core.frame.DataFrame'>\n",
      "RangeIndex: 27753444 entries, 0 to 27753443\n",
      "Data columns (total 4 columns):\n",
      "userId       int64\n",
      "movieId      int64\n",
      "rating       float64\n",
      "timestamp    int64\n",
      "dtypes: float64(1), int64(3)\n",
      "memory usage: 847.0 MB\n"
     ]
    }
   ],
   "source": [
    "ratings.info()"
   ]
  },
  {
   "cell_type": "markdown",
   "metadata": {},
   "source": [
    "Using info() function, we are finding the information of our dataframe.\n",
    "\n",
    "It can be seen that dataframe 'movies' has memory usage of 1.3MB, while that of ratings is 635.2 MB."
   ]
  },
  {
   "cell_type": "code",
   "execution_count": 8,
   "metadata": {},
   "outputs": [
    {
     "data": {
      "text/html": [
       "<div>\n",
       "<style scoped>\n",
       "    .dataframe tbody tr th:only-of-type {\n",
       "        vertical-align: middle;\n",
       "    }\n",
       "\n",
       "    .dataframe tbody tr th {\n",
       "        vertical-align: top;\n",
       "    }\n",
       "\n",
       "    .dataframe thead th {\n",
       "        text-align: right;\n",
       "    }\n",
       "</style>\n",
       "<table border=\"1\" class=\"dataframe\">\n",
       "  <thead>\n",
       "    <tr style=\"text-align: right;\">\n",
       "      <th></th>\n",
       "      <th>movieId</th>\n",
       "    </tr>\n",
       "  </thead>\n",
       "  <tbody>\n",
       "    <tr>\n",
       "      <th>count</th>\n",
       "      <td>58098.000000</td>\n",
       "    </tr>\n",
       "    <tr>\n",
       "      <th>mean</th>\n",
       "      <td>111919.516197</td>\n",
       "    </tr>\n",
       "    <tr>\n",
       "      <th>std</th>\n",
       "      <td>59862.660956</td>\n",
       "    </tr>\n",
       "    <tr>\n",
       "      <th>min</th>\n",
       "      <td>1.000000</td>\n",
       "    </tr>\n",
       "    <tr>\n",
       "      <th>25%</th>\n",
       "      <td>72437.750000</td>\n",
       "    </tr>\n",
       "    <tr>\n",
       "      <th>50%</th>\n",
       "      <td>126549.000000</td>\n",
       "    </tr>\n",
       "    <tr>\n",
       "      <th>75%</th>\n",
       "      <td>161449.500000</td>\n",
       "    </tr>\n",
       "    <tr>\n",
       "      <th>max</th>\n",
       "      <td>193886.000000</td>\n",
       "    </tr>\n",
       "  </tbody>\n",
       "</table>\n",
       "</div>"
      ],
      "text/plain": [
       "             movieId\n",
       "count   58098.000000\n",
       "mean   111919.516197\n",
       "std     59862.660956\n",
       "min         1.000000\n",
       "25%     72437.750000\n",
       "50%    126549.000000\n",
       "75%    161449.500000\n",
       "max    193886.000000"
      ]
     },
     "execution_count": 8,
     "metadata": {},
     "output_type": "execute_result"
    }
   ],
   "source": [
    "movies.describe()"
   ]
  },
  {
   "cell_type": "code",
   "execution_count": 9,
   "metadata": {},
   "outputs": [
    {
     "data": {
      "text/html": [
       "<div>\n",
       "<style scoped>\n",
       "    .dataframe tbody tr th:only-of-type {\n",
       "        vertical-align: middle;\n",
       "    }\n",
       "\n",
       "    .dataframe tbody tr th {\n",
       "        vertical-align: top;\n",
       "    }\n",
       "\n",
       "    .dataframe thead th {\n",
       "        text-align: right;\n",
       "    }\n",
       "</style>\n",
       "<table border=\"1\" class=\"dataframe\">\n",
       "  <thead>\n",
       "    <tr style=\"text-align: right;\">\n",
       "      <th></th>\n",
       "      <th>userId</th>\n",
       "      <th>movieId</th>\n",
       "      <th>rating</th>\n",
       "      <th>timestamp</th>\n",
       "    </tr>\n",
       "  </thead>\n",
       "  <tbody>\n",
       "    <tr>\n",
       "      <th>count</th>\n",
       "      <td>2.775344e+07</td>\n",
       "      <td>2.775344e+07</td>\n",
       "      <td>2.775344e+07</td>\n",
       "      <td>2.775344e+07</td>\n",
       "    </tr>\n",
       "    <tr>\n",
       "      <th>mean</th>\n",
       "      <td>1.419420e+05</td>\n",
       "      <td>1.848800e+04</td>\n",
       "      <td>3.530445e+00</td>\n",
       "      <td>1.193122e+09</td>\n",
       "    </tr>\n",
       "    <tr>\n",
       "      <th>std</th>\n",
       "      <td>8.170740e+04</td>\n",
       "      <td>3.510263e+04</td>\n",
       "      <td>1.066353e+00</td>\n",
       "      <td>2.160482e+08</td>\n",
       "    </tr>\n",
       "    <tr>\n",
       "      <th>min</th>\n",
       "      <td>1.000000e+00</td>\n",
       "      <td>1.000000e+00</td>\n",
       "      <td>5.000000e-01</td>\n",
       "      <td>7.896520e+08</td>\n",
       "    </tr>\n",
       "    <tr>\n",
       "      <th>25%</th>\n",
       "      <td>7.117600e+04</td>\n",
       "      <td>1.097000e+03</td>\n",
       "      <td>3.000000e+00</td>\n",
       "      <td>9.986053e+08</td>\n",
       "    </tr>\n",
       "    <tr>\n",
       "      <th>50%</th>\n",
       "      <td>1.420220e+05</td>\n",
       "      <td>2.716000e+03</td>\n",
       "      <td>3.500000e+00</td>\n",
       "      <td>1.174256e+09</td>\n",
       "    </tr>\n",
       "    <tr>\n",
       "      <th>75%</th>\n",
       "      <td>2.124590e+05</td>\n",
       "      <td>7.150000e+03</td>\n",
       "      <td>4.000000e+00</td>\n",
       "      <td>1.422744e+09</td>\n",
       "    </tr>\n",
       "    <tr>\n",
       "      <th>max</th>\n",
       "      <td>2.832280e+05</td>\n",
       "      <td>1.938860e+05</td>\n",
       "      <td>5.000000e+00</td>\n",
       "      <td>1.537945e+09</td>\n",
       "    </tr>\n",
       "  </tbody>\n",
       "</table>\n",
       "</div>"
      ],
      "text/plain": [
       "             userId       movieId        rating     timestamp\n",
       "count  2.775344e+07  2.775344e+07  2.775344e+07  2.775344e+07\n",
       "mean   1.419420e+05  1.848800e+04  3.530445e+00  1.193122e+09\n",
       "std    8.170740e+04  3.510263e+04  1.066353e+00  2.160482e+08\n",
       "min    1.000000e+00  1.000000e+00  5.000000e-01  7.896520e+08\n",
       "25%    7.117600e+04  1.097000e+03  3.000000e+00  9.986053e+08\n",
       "50%    1.420220e+05  2.716000e+03  3.500000e+00  1.174256e+09\n",
       "75%    2.124590e+05  7.150000e+03  4.000000e+00  1.422744e+09\n",
       "max    2.832280e+05  1.938860e+05  5.000000e+00  1.537945e+09"
      ]
     },
     "execution_count": 9,
     "metadata": {},
     "output_type": "execute_result"
    }
   ],
   "source": [
    "ratings.describe()"
   ]
  },
  {
   "cell_type": "markdown",
   "metadata": {},
   "source": [
    "By using describe() function we perform basis statistical operations on our dataframes"
   ]
  },
  {
   "cell_type": "code",
   "execution_count": 10,
   "metadata": {},
   "outputs": [],
   "source": [
    "# Here we are dropping 'timestamp' columns, which is not necessary in our algorithm.\n",
    "ratings = ratings.drop(columns=['timestamp'], axis = 0)"
   ]
  },
  {
   "cell_type": "code",
   "execution_count": 11,
   "metadata": {},
   "outputs": [
    {
     "data": {
      "text/plain": [
       "Index(['userId', 'movieId', 'rating'], dtype='object')"
      ]
     },
     "execution_count": 11,
     "metadata": {},
     "output_type": "execute_result"
    }
   ],
   "source": [
    "ratings.columns"
   ]
  },
  {
   "cell_type": "code",
   "execution_count": 12,
   "metadata": {},
   "outputs": [
    {
     "data": {
      "text/plain": [
       "283228"
      ]
     },
     "execution_count": 12,
     "metadata": {},
     "output_type": "execute_result"
    }
   ],
   "source": [
    "# to count the number of unique users\n",
    "len(ratings['userId'].unique())"
   ]
  },
  {
   "cell_type": "code",
   "execution_count": 13,
   "metadata": {},
   "outputs": [
    {
     "data": {
      "text/plain": [
       "53889"
      ]
     },
     "execution_count": 13,
     "metadata": {},
     "output_type": "execute_result"
    }
   ],
   "source": [
    "# Counting the number of unique movies in the dataset.\n",
    "len(ratings['movieId'].unique())"
   ]
  },
  {
   "cell_type": "code",
   "execution_count": 14,
   "metadata": {},
   "outputs": [
    {
     "data": {
      "text/html": [
       "<div>\n",
       "<style scoped>\n",
       "    .dataframe tbody tr th:only-of-type {\n",
       "        vertical-align: middle;\n",
       "    }\n",
       "\n",
       "    .dataframe tbody tr th {\n",
       "        vertical-align: top;\n",
       "    }\n",
       "\n",
       "    .dataframe thead th {\n",
       "        text-align: right;\n",
       "    }\n",
       "</style>\n",
       "<table border=\"1\" class=\"dataframe\">\n",
       "  <thead>\n",
       "    <tr style=\"text-align: right;\">\n",
       "      <th></th>\n",
       "      <th>rating</th>\n",
       "      <th>Count</th>\n",
       "    </tr>\n",
       "  </thead>\n",
       "  <tbody>\n",
       "    <tr>\n",
       "      <th>0</th>\n",
       "      <td>0.5</td>\n",
       "      <td>442388</td>\n",
       "    </tr>\n",
       "    <tr>\n",
       "      <th>1</th>\n",
       "      <td>1.0</td>\n",
       "      <td>886233</td>\n",
       "    </tr>\n",
       "    <tr>\n",
       "      <th>2</th>\n",
       "      <td>1.5</td>\n",
       "      <td>441354</td>\n",
       "    </tr>\n",
       "    <tr>\n",
       "      <th>3</th>\n",
       "      <td>2.0</td>\n",
       "      <td>1850627</td>\n",
       "    </tr>\n",
       "    <tr>\n",
       "      <th>4</th>\n",
       "      <td>2.5</td>\n",
       "      <td>1373419</td>\n",
       "    </tr>\n",
       "    <tr>\n",
       "      <th>5</th>\n",
       "      <td>3.0</td>\n",
       "      <td>5515668</td>\n",
       "    </tr>\n",
       "    <tr>\n",
       "      <th>6</th>\n",
       "      <td>3.5</td>\n",
       "      <td>3404360</td>\n",
       "    </tr>\n",
       "    <tr>\n",
       "      <th>7</th>\n",
       "      <td>4.0</td>\n",
       "      <td>7394710</td>\n",
       "    </tr>\n",
       "    <tr>\n",
       "      <th>8</th>\n",
       "      <td>4.5</td>\n",
       "      <td>2373550</td>\n",
       "    </tr>\n",
       "    <tr>\n",
       "      <th>9</th>\n",
       "      <td>5.0</td>\n",
       "      <td>4071135</td>\n",
       "    </tr>\n",
       "  </tbody>\n",
       "</table>\n",
       "</div>"
      ],
      "text/plain": [
       "   rating    Count\n",
       "0     0.5   442388\n",
       "1     1.0   886233\n",
       "2     1.5   441354\n",
       "3     2.0  1850627\n",
       "4     2.5  1373419\n",
       "5     3.0  5515668\n",
       "6     3.5  3404360\n",
       "7     4.0  7394710\n",
       "8     4.5  2373550\n",
       "9     5.0  4071135"
      ]
     },
     "execution_count": 14,
     "metadata": {},
     "output_type": "execute_result"
    }
   ],
   "source": [
    "rating_count_corr = ratings.groupby('rating').size().reset_index(name='Count')\n",
    "rating_count_corr"
   ]
  },
  {
   "cell_type": "code",
   "execution_count": 15,
   "metadata": {},
   "outputs": [],
   "source": [
    "# to group our dataframe based on 'movieId' and count the number of times a particular movie is watched.\n",
    "avg_rating = pd.DataFrame(ratings.groupby('movieId')['rating'].agg(['mean','count']))\n",
    "avg_rating['movieId']= avg_rating.index"
   ]
  },
  {
   "cell_type": "code",
   "execution_count": 16,
   "metadata": {},
   "outputs": [
    {
     "data": {
      "text/html": [
       "<div>\n",
       "<style scoped>\n",
       "    .dataframe tbody tr th:only-of-type {\n",
       "        vertical-align: middle;\n",
       "    }\n",
       "\n",
       "    .dataframe tbody tr th {\n",
       "        vertical-align: top;\n",
       "    }\n",
       "\n",
       "    .dataframe thead th {\n",
       "        text-align: right;\n",
       "    }\n",
       "</style>\n",
       "<table border=\"1\" class=\"dataframe\">\n",
       "  <thead>\n",
       "    <tr style=\"text-align: right;\">\n",
       "      <th></th>\n",
       "      <th>mean</th>\n",
       "      <th>count</th>\n",
       "      <th>movieId</th>\n",
       "    </tr>\n",
       "    <tr>\n",
       "      <th>movieId</th>\n",
       "      <th></th>\n",
       "      <th></th>\n",
       "      <th></th>\n",
       "    </tr>\n",
       "  </thead>\n",
       "  <tbody>\n",
       "    <tr>\n",
       "      <th>1</th>\n",
       "      <td>3.886649</td>\n",
       "      <td>68469</td>\n",
       "      <td>1</td>\n",
       "    </tr>\n",
       "    <tr>\n",
       "      <th>2</th>\n",
       "      <td>3.246583</td>\n",
       "      <td>27143</td>\n",
       "      <td>2</td>\n",
       "    </tr>\n",
       "    <tr>\n",
       "      <th>3</th>\n",
       "      <td>3.173981</td>\n",
       "      <td>15585</td>\n",
       "      <td>3</td>\n",
       "    </tr>\n",
       "    <tr>\n",
       "      <th>4</th>\n",
       "      <td>2.874540</td>\n",
       "      <td>2989</td>\n",
       "      <td>4</td>\n",
       "    </tr>\n",
       "    <tr>\n",
       "      <th>5</th>\n",
       "      <td>3.077291</td>\n",
       "      <td>15474</td>\n",
       "      <td>5</td>\n",
       "    </tr>\n",
       "  </tbody>\n",
       "</table>\n",
       "</div>"
      ],
      "text/plain": [
       "             mean  count  movieId\n",
       "movieId                          \n",
       "1        3.886649  68469        1\n",
       "2        3.246583  27143        2\n",
       "3        3.173981  15585        3\n",
       "4        2.874540   2989        4\n",
       "5        3.077291  15474        5"
      ]
     },
     "execution_count": 16,
     "metadata": {},
     "output_type": "execute_result"
    }
   ],
   "source": [
    "# to import NearestNeighbors from sklearn library\n",
    "from sklearn.neighbors import NearestNeighbors\n",
    "avg_rating.head()"
   ]
  },
  {
   "cell_type": "code",
   "execution_count": 17,
   "metadata": {},
   "outputs": [
    {
     "name": "stdout",
     "output_type": "stream",
     "text": [
      "3100\n"
     ]
    }
   ],
   "source": [
    "#only include movies with more than 10 ratings\n",
    "final_data_10 = avg_rating.loc[avg_rating['count']>=1500]\n",
    "print(len(final_data_10))"
   ]
  },
  {
   "cell_type": "code",
   "execution_count": 18,
   "metadata": {},
   "outputs": [
    {
     "data": {
      "text/html": [
       "<div>\n",
       "<style scoped>\n",
       "    .dataframe tbody tr th:only-of-type {\n",
       "        vertical-align: middle;\n",
       "    }\n",
       "\n",
       "    .dataframe tbody tr th {\n",
       "        vertical-align: top;\n",
       "    }\n",
       "\n",
       "    .dataframe thead th {\n",
       "        text-align: right;\n",
       "    }\n",
       "</style>\n",
       "<table border=\"1\" class=\"dataframe\">\n",
       "  <thead>\n",
       "    <tr style=\"text-align: right;\">\n",
       "      <th></th>\n",
       "      <th>mean</th>\n",
       "      <th>count</th>\n",
       "    </tr>\n",
       "    <tr>\n",
       "      <th>movieId</th>\n",
       "      <th></th>\n",
       "      <th></th>\n",
       "    </tr>\n",
       "  </thead>\n",
       "  <tbody>\n",
       "    <tr>\n",
       "      <th>1</th>\n",
       "      <td>3.886649</td>\n",
       "      <td>68469</td>\n",
       "    </tr>\n",
       "    <tr>\n",
       "      <th>2</th>\n",
       "      <td>3.246583</td>\n",
       "      <td>27143</td>\n",
       "    </tr>\n",
       "    <tr>\n",
       "      <th>3</th>\n",
       "      <td>3.173981</td>\n",
       "      <td>15585</td>\n",
       "    </tr>\n",
       "    <tr>\n",
       "      <th>4</th>\n",
       "      <td>2.874540</td>\n",
       "      <td>2989</td>\n",
       "    </tr>\n",
       "    <tr>\n",
       "      <th>5</th>\n",
       "      <td>3.077291</td>\n",
       "      <td>15474</td>\n",
       "    </tr>\n",
       "  </tbody>\n",
       "</table>\n",
       "</div>"
      ],
      "text/plain": [
       "             mean  count\n",
       "movieId                 \n",
       "1        3.886649  68469\n",
       "2        3.246583  27143\n",
       "3        3.173981  15585\n",
       "4        2.874540   2989\n",
       "5        3.077291  15474"
      ]
     },
     "execution_count": 18,
     "metadata": {},
     "output_type": "execute_result"
    }
   ],
   "source": [
    "final_data_10 = final_data_10.drop(columns=['movieId'], axis = 0)\n",
    "final_data_10.head()"
   ]
  },
  {
   "cell_type": "code",
   "execution_count": 19,
   "metadata": {},
   "outputs": [
    {
     "data": {
      "text/plain": [
       "23884519"
      ]
     },
     "execution_count": 19,
     "metadata": {},
     "output_type": "execute_result"
    }
   ],
   "source": [
    "final_data_merge = pd.merge(final_data_10, ratings, on='movieId')\n",
    "len(final_data_merge)"
   ]
  },
  {
   "cell_type": "code",
   "execution_count": 20,
   "metadata": {},
   "outputs": [
    {
     "data": {
      "text/html": [
       "<div>\n",
       "<style scoped>\n",
       "    .dataframe tbody tr th:only-of-type {\n",
       "        vertical-align: middle;\n",
       "    }\n",
       "\n",
       "    .dataframe tbody tr th {\n",
       "        vertical-align: top;\n",
       "    }\n",
       "\n",
       "    .dataframe thead th {\n",
       "        text-align: right;\n",
       "    }\n",
       "</style>\n",
       "<table border=\"1\" class=\"dataframe\">\n",
       "  <thead>\n",
       "    <tr style=\"text-align: right;\">\n",
       "      <th></th>\n",
       "      <th>movieId</th>\n",
       "      <th>mean</th>\n",
       "      <th>count</th>\n",
       "      <th>userId</th>\n",
       "      <th>rating</th>\n",
       "    </tr>\n",
       "  </thead>\n",
       "  <tbody>\n",
       "    <tr>\n",
       "      <th>0</th>\n",
       "      <td>1</td>\n",
       "      <td>3.886649</td>\n",
       "      <td>68469</td>\n",
       "      <td>4</td>\n",
       "      <td>4.0</td>\n",
       "    </tr>\n",
       "    <tr>\n",
       "      <th>1</th>\n",
       "      <td>1</td>\n",
       "      <td>3.886649</td>\n",
       "      <td>68469</td>\n",
       "      <td>10</td>\n",
       "      <td>5.0</td>\n",
       "    </tr>\n",
       "    <tr>\n",
       "      <th>2</th>\n",
       "      <td>1</td>\n",
       "      <td>3.886649</td>\n",
       "      <td>68469</td>\n",
       "      <td>14</td>\n",
       "      <td>4.5</td>\n",
       "    </tr>\n",
       "    <tr>\n",
       "      <th>3</th>\n",
       "      <td>1</td>\n",
       "      <td>3.886649</td>\n",
       "      <td>68469</td>\n",
       "      <td>15</td>\n",
       "      <td>4.0</td>\n",
       "    </tr>\n",
       "    <tr>\n",
       "      <th>4</th>\n",
       "      <td>1</td>\n",
       "      <td>3.886649</td>\n",
       "      <td>68469</td>\n",
       "      <td>22</td>\n",
       "      <td>4.0</td>\n",
       "    </tr>\n",
       "    <tr>\n",
       "      <th>5</th>\n",
       "      <td>1</td>\n",
       "      <td>3.886649</td>\n",
       "      <td>68469</td>\n",
       "      <td>25</td>\n",
       "      <td>4.0</td>\n",
       "    </tr>\n",
       "    <tr>\n",
       "      <th>6</th>\n",
       "      <td>1</td>\n",
       "      <td>3.886649</td>\n",
       "      <td>68469</td>\n",
       "      <td>27</td>\n",
       "      <td>5.0</td>\n",
       "    </tr>\n",
       "    <tr>\n",
       "      <th>7</th>\n",
       "      <td>1</td>\n",
       "      <td>3.886649</td>\n",
       "      <td>68469</td>\n",
       "      <td>31</td>\n",
       "      <td>5.0</td>\n",
       "    </tr>\n",
       "    <tr>\n",
       "      <th>8</th>\n",
       "      <td>1</td>\n",
       "      <td>3.886649</td>\n",
       "      <td>68469</td>\n",
       "      <td>32</td>\n",
       "      <td>4.5</td>\n",
       "    </tr>\n",
       "    <tr>\n",
       "      <th>9</th>\n",
       "      <td>1</td>\n",
       "      <td>3.886649</td>\n",
       "      <td>68469</td>\n",
       "      <td>38</td>\n",
       "      <td>5.0</td>\n",
       "    </tr>\n",
       "  </tbody>\n",
       "</table>\n",
       "</div>"
      ],
      "text/plain": [
       "   movieId      mean  count  userId  rating\n",
       "0        1  3.886649  68469       4     4.0\n",
       "1        1  3.886649  68469      10     5.0\n",
       "2        1  3.886649  68469      14     4.5\n",
       "3        1  3.886649  68469      15     4.0\n",
       "4        1  3.886649  68469      22     4.0\n",
       "5        1  3.886649  68469      25     4.0\n",
       "6        1  3.886649  68469      27     5.0\n",
       "7        1  3.886649  68469      31     5.0\n",
       "8        1  3.886649  68469      32     4.5\n",
       "9        1  3.886649  68469      38     5.0"
      ]
     },
     "execution_count": 20,
     "metadata": {},
     "output_type": "execute_result"
    }
   ],
   "source": [
    "final_data_merge.head(10)"
   ]
  },
  {
   "cell_type": "markdown",
   "metadata": {},
   "source": [
    "## iv) Visualisation "
   ]
  },
  {
   "cell_type": "code",
   "execution_count": 21,
   "metadata": {},
   "outputs": [
    {
     "data": {
      "text/plain": [
       "Text(0.5, 1.0, 'Plot of counts and ratings')"
      ]
     },
     "execution_count": 21,
     "metadata": {},
     "output_type": "execute_result"
    },
    {
     "data": {
      "image/png": "[encoded data removed]",
      "text/plain": [
       "<Figure size 432x288 with 1 Axes>"
      ]
     },
     "metadata": {
      "needs_background": "light"
     },
     "output_type": "display_data"
    }
   ],
   "source": [
    "ratings['rating'].hist()\n",
    "plt.xlabel('Rating')\n",
    "plt.ylabel('Counts')\n",
    "plt.title(\"Plot of counts and ratings\")"
   ]
  },
  {
   "cell_type": "code",
   "execution_count": 22,
   "metadata": {},
   "outputs": [
    {
     "data": {
      "text/plain": [
       "Text(0, 0.5, 'percentage distribution of rating')"
      ]
     },
     "execution_count": 22,
     "metadata": {},
     "output_type": "execute_result"
    },
    {
     "data": {
      "image/png": "[encoded data removed]",
      "text/plain": [
       "<Figure size 432x288 with 1 Axes>"
      ]
     },
     "metadata": {
      "needs_background": "light"
     },
     "output_type": "display_data"
    }
   ],
   "source": [
    "#Getting the percentage count of each rating value \n",
    "count_ratings = ratings.groupby('rating').count()\n",
    "count_ratings['perc_total']=round(count_ratings['userId']*100/count_ratings['userId'].sum(),1)\n",
    "#Visualising the percentage total for each rating\n",
    "count_ratings['perc_total'].plot.bar()\n",
    "plt.ylabel(\"percentage distribution of rating\")"
   ]
  },
  {
   "cell_type": "code",
   "execution_count": 23,
   "metadata": {},
   "outputs": [
    {
     "data": {
      "text/plain": [
       "rating\n",
       "0.5     442388\n",
       "1.0     886233\n",
       "1.5     441354\n",
       "2.0    1850627\n",
       "2.5    1373419\n",
       "3.0    5515668\n",
       "3.5    3404360\n",
       "4.0    7394710\n",
       "4.5    2373550\n",
       "5.0    4071135\n",
       "Name: userId, dtype: int64"
      ]
     },
     "execution_count": 23,
     "metadata": {},
     "output_type": "execute_result"
    }
   ],
   "source": [
    "count_ratings['userId']"
   ]
  },
  {
   "cell_type": "markdown",
   "metadata": {},
   "source": [
    "## v) Applying model"
   ]
  },
  {
   "cell_type": "code",
   "execution_count": 24,
   "metadata": {},
   "outputs": [
    {
     "data": {
      "text/html": [
       "<div>\n",
       "<style scoped>\n",
       "    .dataframe tbody tr th:only-of-type {\n",
       "        vertical-align: middle;\n",
       "    }\n",
       "\n",
       "    .dataframe tbody tr th {\n",
       "        vertical-align: top;\n",
       "    }\n",
       "\n",
       "    .dataframe thead th {\n",
       "        text-align: right;\n",
       "    }\n",
       "</style>\n",
       "<table border=\"1\" class=\"dataframe\">\n",
       "  <thead>\n",
       "    <tr style=\"text-align: right;\">\n",
       "      <th>userId</th>\n",
       "      <th>1</th>\n",
       "      <th>2</th>\n",
       "      <th>3</th>\n",
       "      <th>4</th>\n",
       "      <th>5</th>\n",
       "      <th>6</th>\n",
       "      <th>7</th>\n",
       "      <th>8</th>\n",
       "      <th>9</th>\n",
       "      <th>10</th>\n",
       "      <th>...</th>\n",
       "      <th>283219</th>\n",
       "      <th>283220</th>\n",
       "      <th>283221</th>\n",
       "      <th>283222</th>\n",
       "      <th>283223</th>\n",
       "      <th>283224</th>\n",
       "      <th>283225</th>\n",
       "      <th>283226</th>\n",
       "      <th>283227</th>\n",
       "      <th>283228</th>\n",
       "    </tr>\n",
       "    <tr>\n",
       "      <th>movieId</th>\n",
       "      <th></th>\n",
       "      <th></th>\n",
       "      <th></th>\n",
       "      <th></th>\n",
       "      <th></th>\n",
       "      <th></th>\n",
       "      <th></th>\n",
       "      <th></th>\n",
       "      <th></th>\n",
       "      <th></th>\n",
       "      <th></th>\n",
       "      <th></th>\n",
       "      <th></th>\n",
       "      <th></th>\n",
       "      <th></th>\n",
       "      <th></th>\n",
       "      <th></th>\n",
       "      <th></th>\n",
       "      <th></th>\n",
       "      <th></th>\n",
       "      <th></th>\n",
       "    </tr>\n",
       "  </thead>\n",
       "  <tbody>\n",
       "    <tr>\n",
       "      <th>1</th>\n",
       "      <td>0.0</td>\n",
       "      <td>0.0</td>\n",
       "      <td>0.0</td>\n",
       "      <td>4.0</td>\n",
       "      <td>0.0</td>\n",
       "      <td>0.0</td>\n",
       "      <td>0.0</td>\n",
       "      <td>0.0</td>\n",
       "      <td>0.0</td>\n",
       "      <td>5.0</td>\n",
       "      <td>...</td>\n",
       "      <td>4.0</td>\n",
       "      <td>0.0</td>\n",
       "      <td>0.0</td>\n",
       "      <td>0.0</td>\n",
       "      <td>0.0</td>\n",
       "      <td>0.0</td>\n",
       "      <td>0.0</td>\n",
       "      <td>0.0</td>\n",
       "      <td>0.0</td>\n",
       "      <td>4.5</td>\n",
       "    </tr>\n",
       "    <tr>\n",
       "      <th>2</th>\n",
       "      <td>0.0</td>\n",
       "      <td>0.0</td>\n",
       "      <td>0.0</td>\n",
       "      <td>4.0</td>\n",
       "      <td>0.0</td>\n",
       "      <td>0.0</td>\n",
       "      <td>0.0</td>\n",
       "      <td>0.0</td>\n",
       "      <td>0.0</td>\n",
       "      <td>0.0</td>\n",
       "      <td>...</td>\n",
       "      <td>0.0</td>\n",
       "      <td>0.0</td>\n",
       "      <td>0.0</td>\n",
       "      <td>0.0</td>\n",
       "      <td>0.0</td>\n",
       "      <td>0.0</td>\n",
       "      <td>0.0</td>\n",
       "      <td>0.0</td>\n",
       "      <td>0.0</td>\n",
       "      <td>0.0</td>\n",
       "    </tr>\n",
       "    <tr>\n",
       "      <th>3</th>\n",
       "      <td>0.0</td>\n",
       "      <td>0.0</td>\n",
       "      <td>0.0</td>\n",
       "      <td>0.0</td>\n",
       "      <td>0.0</td>\n",
       "      <td>0.0</td>\n",
       "      <td>0.0</td>\n",
       "      <td>3.0</td>\n",
       "      <td>0.0</td>\n",
       "      <td>0.0</td>\n",
       "      <td>...</td>\n",
       "      <td>0.0</td>\n",
       "      <td>0.0</td>\n",
       "      <td>0.0</td>\n",
       "      <td>0.0</td>\n",
       "      <td>0.0</td>\n",
       "      <td>4.0</td>\n",
       "      <td>0.0</td>\n",
       "      <td>0.0</td>\n",
       "      <td>0.0</td>\n",
       "      <td>0.0</td>\n",
       "    </tr>\n",
       "    <tr>\n",
       "      <th>4</th>\n",
       "      <td>0.0</td>\n",
       "      <td>0.0</td>\n",
       "      <td>0.0</td>\n",
       "      <td>0.0</td>\n",
       "      <td>0.0</td>\n",
       "      <td>0.0</td>\n",
       "      <td>0.0</td>\n",
       "      <td>0.0</td>\n",
       "      <td>0.0</td>\n",
       "      <td>0.0</td>\n",
       "      <td>...</td>\n",
       "      <td>0.0</td>\n",
       "      <td>0.0</td>\n",
       "      <td>0.0</td>\n",
       "      <td>0.0</td>\n",
       "      <td>0.0</td>\n",
       "      <td>0.0</td>\n",
       "      <td>0.0</td>\n",
       "      <td>0.0</td>\n",
       "      <td>0.0</td>\n",
       "      <td>0.0</td>\n",
       "    </tr>\n",
       "    <tr>\n",
       "      <th>5</th>\n",
       "      <td>0.0</td>\n",
       "      <td>0.0</td>\n",
       "      <td>0.0</td>\n",
       "      <td>2.0</td>\n",
       "      <td>0.0</td>\n",
       "      <td>0.0</td>\n",
       "      <td>0.0</td>\n",
       "      <td>3.0</td>\n",
       "      <td>0.0</td>\n",
       "      <td>0.0</td>\n",
       "      <td>...</td>\n",
       "      <td>0.0</td>\n",
       "      <td>0.0</td>\n",
       "      <td>0.0</td>\n",
       "      <td>0.0</td>\n",
       "      <td>0.0</td>\n",
       "      <td>0.0</td>\n",
       "      <td>0.0</td>\n",
       "      <td>0.0</td>\n",
       "      <td>0.0</td>\n",
       "      <td>0.0</td>\n",
       "    </tr>\n",
       "  </tbody>\n",
       "</table>\n",
       "<p>5 rows × 282575 columns</p>\n",
       "</div>"
      ],
      "text/plain": [
       "userId   1       2       3       4       5       6       7       8       \\\n",
       "movieId                                                                   \n",
       "1           0.0     0.0     0.0     4.0     0.0     0.0     0.0     0.0   \n",
       "2           0.0     0.0     0.0     4.0     0.0     0.0     0.0     0.0   \n",
       "3           0.0     0.0     0.0     0.0     0.0     0.0     0.0     3.0   \n",
       "4           0.0     0.0     0.0     0.0     0.0     0.0     0.0     0.0   \n",
       "5           0.0     0.0     0.0     2.0     0.0     0.0     0.0     3.0   \n",
       "\n",
       "userId   9       10      ...  283219  283220  283221  283222  283223  283224  \\\n",
       "movieId                  ...                                                   \n",
       "1           0.0     5.0  ...     4.0     0.0     0.0     0.0     0.0     0.0   \n",
       "2           0.0     0.0  ...     0.0     0.0     0.0     0.0     0.0     0.0   \n",
       "3           0.0     0.0  ...     0.0     0.0     0.0     0.0     0.0     4.0   \n",
       "4           0.0     0.0  ...     0.0     0.0     0.0     0.0     0.0     0.0   \n",
       "5           0.0     0.0  ...     0.0     0.0     0.0     0.0     0.0     0.0   \n",
       "\n",
       "userId   283225  283226  283227  283228  \n",
       "movieId                                  \n",
       "1           0.0     0.0     0.0     4.5  \n",
       "2           0.0     0.0     0.0     0.0  \n",
       "3           0.0     0.0     0.0     0.0  \n",
       "4           0.0     0.0     0.0     0.0  \n",
       "5           0.0     0.0     0.0     0.0  \n",
       "\n",
       "[5 rows x 282575 columns]"
      ]
     },
     "execution_count": 24,
     "metadata": {},
     "output_type": "execute_result"
    }
   ],
   "source": [
    "# Here we are creating a sparse matrix, where columns = 'userId' and index = 'movieId'.\n",
    "\n",
    "# In this dataframe, a particular row comprises of ratings given by all the users to a particular movie, \n",
    "# and if the user not given the rating then we assign 0 to it.\n",
    "\n",
    "matrix = final_data_merge.pivot(index = 'movieId', columns = 'userId', values = 'rating').fillna(0)\n",
    "matrix.head()"
   ]
  },
  {
   "cell_type": "code",
   "execution_count": 25,
   "metadata": {},
   "outputs": [
    {
     "data": {
      "text/plain": [
       "(3100, 282575)"
      ]
     },
     "execution_count": 25,
     "metadata": {},
     "output_type": "execute_result"
    }
   ],
   "source": [
    "# final shape of the matrix\n",
    "matrix.shape"
   ]
  },
  {
   "cell_type": "code",
   "execution_count": 26,
   "metadata": {},
   "outputs": [
    {
     "data": {
      "text/plain": [
       "NearestNeighbors(algorithm='brute', leaf_size=30, metric='cosine',\n",
       "         metric_params=None, n_jobs=None, n_neighbors=5, p=2, radius=1.0)"
      ]
     },
     "execution_count": 26,
     "metadata": {},
     "output_type": "execute_result"
    }
   ],
   "source": [
    "#specify model parameters\n",
    "model_knn = NearestNeighbors(metric='cosine',algorithm='brute')\n",
    "\n",
    "#fit model to the data set\n",
    "model_knn.fit(matrix)"
   ]
  },
  {
   "cell_type": "code",
   "execution_count": 27,
   "metadata": {},
   "outputs": [],
   "source": [
    "def print_movies(movie_index):\n",
    "    \n",
    "    if (movie_index not in matrix.index): # here matrix index is our sparse matrix\n",
    "        print('\\n This movie does not belong to the modified dataframe')\n",
    "         \n",
    "    else:\n",
    "        # taking a particular row based on movie_index for further calculations\n",
    "        movie_index_arr = matrix.loc[movie_index,:].values.reshape(1,-1) \n",
    "        \n",
    "        # to find the distances and indexes of the k nearest neighbors (here distance taken is cosine similarity)\n",
    "        distances,indices = model_knn.kneighbors(movie_index_arr,n_neighbors = 11)\n",
    "        \n",
    "        for i in range(0,len(distances.flatten())):\n",
    "            \n",
    "            # to get title of the movie\n",
    "            get_movie = movies.loc[movies['movieId']==movie_index]['title']\n",
    "            \n",
    "            # to print the movie name which matches most with out input value\n",
    "            if i==0:\n",
    "                print('Recommendations for {0}:\\n'.format(get_movie))\n",
    "                print('\\n\\n')\n",
    "                \n",
    "                \n",
    "            else :\n",
    "                #get indices of closest movie\n",
    "                indices_onedim = indices.flatten()[i]\n",
    "                \n",
    "                #get the title of the movie\n",
    "                get_movie = movies.loc[movies['movieId']==matrix.iloc[indices_onedim,:].name]['title']\n",
    "                \n",
    "                #print the movie\n",
    "                print('{0}: {1}, with distance of {2}:'.format(i,get_movie,distances.flatten()[i]))\n",
    "                print('\\n')"
   ]
  },
  {
   "cell_type": "markdown",
   "metadata": {},
   "source": [
    "## Recommendation system"
   ]
  },
  {
   "cell_type": "code",
   "execution_count": 32,
   "metadata": {},
   "outputs": [
    {
     "name": "stdout",
     "output_type": "stream",
     "text": [
      "Enter movie: furious\n",
      "Recommendations for 4275    Fast and the Furious, The (2001)\n",
      "Name: title, dtype: object:\n",
      "\n",
      "\n",
      "\n",
      "\n",
      "1: 6278    2 Fast 2 Furious (Fast and the Furious 2, The)...\n",
      "Name: title, dtype: object, with distance of 0.5362578185458499:\n",
      "\n",
      "\n",
      "2: 5411    xXx (2002)\n",
      "Name: title, dtype: object, with distance of 0.5646769658810151:\n",
      "\n",
      "\n",
      "3: 3627    Gone in 60 Seconds (2000)\n",
      "Name: title, dtype: object, with distance of 0.5730044666644502:\n",
      "\n",
      "\n",
      "4: 4273    Lara Croft: Tomb Raider (2001)\n",
      "Name: title, dtype: object, with distance of 0.6007359487582686:\n",
      "\n",
      "\n",
      "5: 11123    Fast and the Furious: Tokyo Drift, The (Fast a...\n",
      "Name: title, dtype: object, with distance of 0.600776607497979:\n",
      "\n",
      "\n",
      "6: 4176    Mummy Returns, The (2001)\n",
      "Name: title, dtype: object, with distance of 0.6075424397903793:\n",
      "\n",
      "\n",
      "7: 4250    Swordfish (2001)\n",
      "Name: title, dtype: object, with distance of 0.607844675375081:\n",
      "\n",
      "\n",
      "8: 4607    Rush Hour 2 (2001)\n",
      "Name: title, dtype: object, with distance of 0.6120738149883469:\n",
      "\n",
      "\n",
      "9: 5363    Men in Black II (a.k.a. MIIB) (a.k.a. MIB 2) (...\n",
      "Name: title, dtype: object, with distance of 0.620860529323263:\n",
      "\n",
      "\n",
      "10: 5478    Transporter, The (2002)\n",
      "Name: title, dtype: object, with distance of 0.6219574292929517:\n",
      "\n",
      "\n"
     ]
    }
   ],
   "source": [
    "# importing regular expression to find substring.\n",
    "import re\n",
    "\n",
    "# to give input(here input is case insensitive)\n",
    "movie = str(input(\"Enter movie: \"))\n",
    "\n",
    "# to find the dataframe which contains the super string of our input.\n",
    "filtered_movie = movies[movies['title'].str.contains(pat = movie, flags=re.IGNORECASE, regex=True)]\n",
    "\n",
    "# to check, if our dataframe is empty or not.\n",
    "if not filtered_movie.empty:\n",
    "    movieId_ = filtered_movie.iloc[0,0]\n",
    "    print_movies(movieId_)\n",
    "    \n",
    "else:\n",
    "    print('\\n This movie does not exist in given database')\n"
   ]
  },
  {
   "cell_type": "code",
   "execution_count": 33,
   "metadata": {},
   "outputs": [
    {
     "name": "stdout",
     "output_type": "stream",
     "text": [
      "Enter movie: avatar\n",
      "Recommendations for 14652    Avatar (2009)\n",
      "Name: title, dtype: object:\n",
      "\n",
      "\n",
      "\n",
      "\n",
      "1: 12666    Iron Man (2008)\n",
      "Name: title, dtype: object, with distance of 0.44084815382041265:\n",
      "\n",
      "\n",
      "2: 15607    Inception (2010)\n",
      "Name: title, dtype: object, with distance of 0.44749699775957263:\n",
      "\n",
      "\n",
      "3: 12782    WALL·E (2008)\n",
      "Name: title, dtype: object, with distance of 0.46371424750584256:\n",
      "\n",
      "\n",
      "4: 14058    District 9 (2009)\n",
      "Name: title, dtype: object, with distance of 0.46830269584957407:\n",
      "\n",
      "\n",
      "5: 13812    Up (2009)\n",
      "Name: title, dtype: object, with distance of 0.4692320924840103:\n",
      "\n",
      "\n",
      "6: 12559    Dark Knight, The (2008)\n",
      "Name: title, dtype: object, with distance of 0.48912479362273587:\n",
      "\n",
      "\n",
      "7: 14658    Sherlock Holmes (2009)\n",
      "Name: title, dtype: object, with distance of 0.49470737649373064:\n",
      "\n",
      "\n",
      "8: 13691    Inglourious Basterds (2009)\n",
      "Name: title, dtype: object, with distance of 0.5063756648739401:\n",
      "\n",
      "\n",
      "9: 13729    Star Trek (2009)\n",
      "Name: title, dtype: object, with distance of 0.507986720321553:\n",
      "\n",
      "\n",
      "10: 13834    Hangover, The (2009)\n",
      "Name: title, dtype: object, with distance of 0.5169772012837711:\n",
      "\n",
      "\n"
     ]
    }
   ],
   "source": [
    "# importing regular expression to find substring.\n",
    "import re\n",
    "\n",
    "# to give input(here input is case insensitive)\n",
    "movie = str(input(\"Enter movie: \"))\n",
    "\n",
    "# to find the dataframe which contains the super string of our input.\n",
    "filtered_movie = movies[movies['title'].str.contains(pat = movie, flags=re.IGNORECASE, regex=True)]\n",
    "\n",
    "# to check, if our dataframe is empty or not.\n",
    "if not filtered_movie.empty:\n",
    "    movieId_ = filtered_movie.iloc[0,0]\n",
    "    print_movies(movieId_)\n",
    "    \n",
    "else:\n",
    "    print('\\n This movie does not exist in given database')"
   ]
  },
  {
   "cell_type": "code",
   "execution_count": 34,
   "metadata": {},
   "outputs": [
    {
     "name": "stdout",
     "output_type": "stream",
     "text": [
      "Enter movie: big hero\n",
      "Recommendations for 25000    Big Hero 6 (2014)\n",
      "Name: title, dtype: object:\n",
      "\n",
      "\n",
      "\n",
      "\n",
      "1: 32293    Inside Out (2015)\n",
      "Name: title, dtype: object, with distance of 0.4760173373593879:\n",
      "\n",
      "\n",
      "2: 24236    Guardians of the Galaxy (2014)\n",
      "Name: title, dtype: object, with distance of 0.49754360547345644:\n",
      "\n",
      "\n",
      "3: 15096    How to Train Your Dragon (2010)\n",
      "Name: title, dtype: object, with distance of 0.5350499418887374:\n",
      "\n",
      "\n",
      "4: 24014    How to Train Your Dragon 2 (2014)\n",
      "Name: title, dtype: object, with distance of 0.5532183211816857:\n",
      "\n",
      "\n",
      "5: 19964    Wreck-It Ralph (2012)\n",
      "Name: title, dtype: object, with distance of 0.5547604881912541:\n",
      "\n",
      "\n",
      "6: 13812    Up (2009)\n",
      "Name: title, dtype: object, with distance of 0.5565849307178057:\n",
      "\n",
      "\n",
      "7: 39494    Zootopia (2016)\n",
      "Name: title, dtype: object, with distance of 0.5629417009600071:\n",
      "\n",
      "\n",
      "8: 17997    Avengers, The (2012)\n",
      "Name: title, dtype: object, with distance of 0.5679726001063015:\n",
      "\n",
      "\n",
      "9: 23092    The Lego Movie (2014)\n",
      "Name: title, dtype: object, with distance of 0.5747353315267041:\n",
      "\n",
      "\n",
      "10: 15599    Despicable Me (2010)\n",
      "Name: title, dtype: object, with distance of 0.5783438658625458:\n",
      "\n",
      "\n"
     ]
    }
   ],
   "source": [
    "# importing regular expression to find substring.\n",
    "import re\n",
    "\n",
    "# to give input(here input is case insensitive)\n",
    "movie = str(input(\"Enter movie: \"))\n",
    "\n",
    "# to find the dataframe which contains the super string of our input.\n",
    "filtered_movie = movies[movies['title'].str.contains(pat = movie, flags=re.IGNORECASE, regex=True)]\n",
    "\n",
    "# to check, if our dataframe is empty or not.\n",
    "if not filtered_movie.empty:\n",
    "    movieId_ = filtered_movie.iloc[0,0]\n",
    "    print_movies(movieId_)\n",
    "    \n",
    "else:\n",
    "    print('\\n This movie does not exist in given database')\n"
   ]
  },
  {
   "cell_type": "code",
   "execution_count": 36,
   "metadata": {},
   "outputs": [
    {
     "name": "stdout",
     "output_type": "stream",
     "text": [
      "Enter movie: conjuring\n",
      "Recommendations for 21558    Conjuring, The (2013)\n",
      "Name: title, dtype: object:\n",
      "\n",
      "\n",
      "\n",
      "\n",
      "1: 17047    Insidious (2010)\n",
      "Name: title, dtype: object, with distance of 0.44495222732112283:\n",
      "\n",
      "\n",
      "2: 24130    Babadook, The (2014)\n",
      "Name: title, dtype: object, with distance of 0.5532093920496847:\n",
      "\n",
      "\n",
      "3: 26820    It Follows (2014)\n",
      "Name: title, dtype: object, with distance of 0.5816907909025131:\n",
      "\n",
      "\n",
      "4: 18999    Cabin in the Woods, The (2012)\n",
      "Name: title, dtype: object, with distance of 0.6143529559847323:\n",
      "\n",
      "\n",
      "5: 14289    Paranormal Activity (2009)\n",
      "Name: title, dtype: object, with distance of 0.6397898028959523:\n",
      "\n",
      "\n",
      "6: 21358    Purge, The (2013)\n",
      "Name: title, dtype: object, with distance of 0.6573883565184659:\n",
      "\n",
      "\n",
      "7: 39492    10 Cloverfield Lane (2016)\n",
      "Name: title, dtype: object, with distance of 0.6684778019119348:\n",
      "\n",
      "\n",
      "8: 12396    [REC] (2007)\n",
      "Name: title, dtype: object, with distance of 0.6836928950908805:\n",
      "\n",
      "\n",
      "9: 13811    Drag Me to Hell (2009)\n",
      "Name: title, dtype: object, with distance of 0.6862651861767697:\n",
      "\n",
      "\n",
      "10: 12285    Mist, The (2007)\n",
      "Name: title, dtype: object, with distance of 0.6930734685491929:\n",
      "\n",
      "\n"
     ]
    }
   ],
   "source": [
    "# importing regular expression to find substring.\n",
    "import re\n",
    "\n",
    "# to give input(here input is case insensitive)\n",
    "movie = str(input(\"Enter movie: \"))\n",
    "\n",
    "# to find the dataframe which contains the super string of our input.\n",
    "filtered_movie = movies[movies['title'].str.contains(pat = movie, flags=re.IGNORECASE, regex=True)]\n",
    "\n",
    "# to check, if our dataframe is empty or not.\n",
    "if not filtered_movie.empty:\n",
    "    movieId_ = filtered_movie.iloc[0,0]\n",
    "    print_movies(movieId_)\n",
    "    \n",
    "else:\n",
    "    print('\\n This movie does not exist in given database')\n"
   ]
  },
  {
   "cell_type": "code",
   "execution_count": 38,
   "metadata": {},
   "outputs": [
    {
     "name": "stdout",
     "output_type": "stream",
     "text": [
      "Enter movie: seven pounds\n",
      "Recommendations for 13279    Seven Pounds (2008)\n",
      "Name: title, dtype: object:\n",
      "\n",
      "\n",
      "\n",
      "\n",
      "1: 11207    Pursuit of Happyness, The (2006)\n",
      "Name: title, dtype: object, with distance of 0.6241163874860124:\n",
      "\n",
      "\n",
      "2: 13300    Curious Case of Benjamin Button, The (2008)\n",
      "Name: title, dtype: object, with distance of 0.6798257879481778:\n",
      "\n",
      "\n",
      "3: 12330    Bucket List, The (2007)\n",
      "Name: title, dtype: object, with distance of 0.6817761505175464:\n",
      "\n",
      "\n",
      "4: 13302    Yes Man (2008)\n",
      "Name: title, dtype: object, with distance of 0.6992838362339737:\n",
      "\n",
      "\n",
      "5: 12784    Hancock (2008)\n",
      "Name: title, dtype: object, with distance of 0.70267399995153:\n",
      "\n",
      "\n",
      "6: 12293    I Am Legend (2007)\n",
      "Name: title, dtype: object, with distance of 0.7037163649328829:\n",
      "\n",
      "\n",
      "7: 16724    Limitless (2011)\n",
      "Name: title, dtype: object, with distance of 0.7168850674393211:\n",
      "\n",
      "\n",
      "8: 14931    Shutter Island (2010)\n",
      "Name: title, dtype: object, with distance of 0.7196945176755323:\n",
      "\n",
      "\n",
      "9: 14564    Blind Side, The  (2009)\n",
      "Name: title, dtype: object, with distance of 0.7221588248339005:\n",
      "\n",
      "\n",
      "10: 11478    Déjà Vu (Deja Vu) (2006)\n",
      "Name: title, dtype: object, with distance of 0.7269599231581108:\n",
      "\n",
      "\n"
     ]
    }
   ],
   "source": [
    "# importing regular expression to find substring.\n",
    "import re\n",
    "\n",
    "# to give input(here input is case insensitive)\n",
    "movie = str(input(\"Enter movie: \"))\n",
    "\n",
    "# to find the dataframe which contains the super string of our input.\n",
    "filtered_movie = movies[movies['title'].str.contains(pat = movie, flags=re.IGNORECASE, regex=True)]\n",
    "\n",
    "# to check, if our dataframe is empty or not.\n",
    "if not filtered_movie.empty:\n",
    "    movieId_ = filtered_movie.iloc[0,0]\n",
    "    print_movies(movieId_)\n",
    "    \n",
    "else:\n",
    "    print('\\n This movie does not exist in given database')\n"
   ]
  },
  {
   "cell_type": "code",
   "execution_count": 45,
   "metadata": {},
   "outputs": [
    {
     "name": "stdout",
     "output_type": "stream",
     "text": [
      "Enter movie: exorcism of emily\n",
      "Recommendations for 10447    Exorcism of Emily Rose, The (2005)\n",
      "Name: title, dtype: object:\n",
      "\n",
      "\n",
      "\n",
      "\n",
      "1: 10326    Skeleton Key, The (2005)\n",
      "Name: title, dtype: object, with distance of 0.6619788824226447:\n",
      "\n",
      "\n",
      "2: 8264    Grudge, The (2004)\n",
      "Name: title, dtype: object, with distance of 0.6789961161040459:\n",
      "\n",
      "\n",
      "3: 10926    Hills Have Eyes, The (2006)\n",
      "Name: title, dtype: object, with distance of 0.7056614230078659:\n",
      "\n",
      "\n",
      "4: 11011    Silent Hill (2006)\n",
      "Name: title, dtype: object, with distance of 0.7069933412814418:\n",
      "\n",
      "\n",
      "5: 9533    Ring Two, The (2005)\n",
      "Name: title, dtype: object, with distance of 0.7094436641709898:\n",
      "\n",
      "\n",
      "6: 10616    Descent, The (2005)\n",
      "Name: title, dtype: object, with distance of 0.7154843964614186:\n",
      "\n",
      "\n",
      "7: 6841    Gothika (2003)\n",
      "Name: title, dtype: object, with distance of 0.7227188833513671:\n",
      "\n",
      "\n",
      "8: 10545    Saw II (2005)\n",
      "Name: title, dtype: object, with distance of 0.7294790078280846:\n",
      "\n",
      "\n",
      "9: 14289    Paranormal Activity (2009)\n",
      "Name: title, dtype: object, with distance of 0.7295383450104191:\n",
      "\n",
      "\n",
      "10: 10369    Red Eye (2005)\n",
      "Name: title, dtype: object, with distance of 0.7319683092476688:\n",
      "\n",
      "\n"
     ]
    }
   ],
   "source": [
    "# importing regular expression to find substring.\n",
    "import re\n",
    "\n",
    "# to give input(here input is case insensitive)\n",
    "movie = str(input(\"Enter movie: \"))\n",
    "\n",
    "# to find the dataframe which contains the super string of our input.\n",
    "filtered_movie = movies[movies['title'].str.contains(pat = movie, flags=re.IGNORECASE, regex=True)]\n",
    "\n",
    "# to check, if our dataframe is empty or not.\n",
    "if not filtered_movie.empty:\n",
    "    movieId_ = filtered_movie.iloc[0,0]\n",
    "    print_movies(movieId_)\n",
    "    \n",
    "else:\n",
    "    print('\\n This movie does not exist in given database')\n"
   ]
  },
  {
   "cell_type": "code",
   "execution_count": 48,
   "metadata": {},
   "outputs": [
    {
     "name": "stdout",
     "output_type": "stream",
     "text": [
      "Enter movie: murder myster\n",
      "Recommendations for 488    Manhattan Murder Mystery (1993)\n",
      "Name: title, dtype: object:\n",
      "\n",
      "\n",
      "\n",
      "\n",
      "1: 2888    Crimes and Misdemeanors (1989)\n",
      "Name: title, dtype: object, with distance of 0.6527806539285289:\n",
      "\n",
      "\n",
      "2: 1216    Manhattan (1979)\n",
      "Name: title, dtype: object, with distance of 0.6645120690798949:\n",
      "\n",
      "\n",
      "3: 1642    Deconstructing Harry (1997)\n",
      "Name: title, dtype: object, with distance of 0.6662469457801158:\n",
      "\n",
      "\n",
      "4: 344    Bullets Over Broadway (1994)\n",
      "Name: title, dtype: object, with distance of 0.6694750690513234:\n",
      "\n",
      "\n",
      "5: 1982    Purple Rose of Cairo, The (1985)\n",
      "Name: title, dtype: object, with distance of 0.6711713443580168:\n",
      "\n",
      "\n",
      "6: 2665    Radio Days (1987)\n",
      "Name: title, dtype: object, with distance of 0.684787374404284:\n",
      "\n",
      "\n",
      "7: 1056    Bananas (1971)\n",
      "Name: title, dtype: object, with distance of 0.6866060406483856:\n",
      "\n",
      "\n",
      "8: 1037    Everyone Says I Love You (1996)\n",
      "Name: title, dtype: object, with distance of 0.688913287622449:\n",
      "\n",
      "\n",
      "9: 1055    Sleeper (1973)\n",
      "Name: title, dtype: object, with distance of 0.7055887303287406:\n",
      "\n",
      "\n",
      "10: 1203    Annie Hall (1977)\n",
      "Name: title, dtype: object, with distance of 0.7055990926514324:\n",
      "\n",
      "\n"
     ]
    }
   ],
   "source": [
    "# importing regular expression to find substring.\n",
    "import re\n",
    "\n",
    "# to give input(here input is case insensitive)\n",
    "movie = str(input(\"Enter movie: \"))\n",
    "\n",
    "# to find the dataframe which contains the super string of our input.\n",
    "filtered_movie = movies[movies['title'].str.contains(pat = movie, flags=re.IGNORECASE, regex=True)]\n",
    "\n",
    "# to check, if our dataframe is empty or not.\n",
    "if not filtered_movie.empty:\n",
    "    movieId_ = filtered_movie.iloc[0,0]\n",
    "    print_movies(movieId_)\n",
    "    \n",
    "else:\n",
    "    print('\\n This movie does not exist in given database')\n"
   ]
  },
  {
   "cell_type": "code",
   "execution_count": null,
   "metadata": {},
   "outputs": [],
   "source": []
  }
 ],
 "metadata": {
  "kernelspec": {
   "display_name": "Python 3",
   "language": "python",
   "name": "python3"
  },
  "language_info": {
   "codemirror_mode": {
    "name": "ipython",
    "version": 3
   },
   "file_extension": ".py",
   "mimetype": "text/x-python",
   "name": "python",
   "nbconvert_exporter": "python",
   "pygments_lexer": "ipython3",
   "version": "3.7.3"
  }
 },
 "nbformat": 4,
 "nbformat_minor": 2
}
